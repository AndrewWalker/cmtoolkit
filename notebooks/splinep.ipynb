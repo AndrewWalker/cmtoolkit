{
 "cells": [
  {
   "cell_type": "markdown",
   "metadata": {},
   "source": [
    "# Periodic Spline\n",
    "\n",
    "This notebook replicates spec_splinep.m as an Jupyter/IPython notebook"
   ]
  },
  {
   "cell_type": "code",
   "execution_count": 1,
   "metadata": {
    "collapsed": true
   },
   "outputs": [],
   "source": [
    "# One of the differences between MATLAB and the IPython notebook is \n",
    "# that the way toolboxes and packages work is slightly different. In\n",
    "# Python, it's hygenic to import the minimal subset of opterations that\n",
    "# you can get away with. "
   ]
  },
  {
   "cell_type": "code",
   "execution_count": 3,
   "metadata": {
    "collapsed": false
   },
   "outputs": [],
   "source": [
    "%matplotlib inline\n",
    "import matplotlib.pyplot as plt\n",
    "import numpy as np\n",
    "import sys; sys.path.append('..')\n",
    "from conformalmapping import *"
   ]
  },
  {
   "cell_type": "code",
   "execution_count": 5,
   "metadata": {
    "collapsed": false
   },
   "outputs": [
    {
     "name": "stdout",
     "output_type": "stream",
     "text": [
      "splinep object:\n",
      "\n",
      "  defined with 13 spline knots,\n",
      "  total chordal arc length 9.20178583641\n",
      "\n",
      "\n"
     ]
    }
   ],
   "source": [
    "# Python Syntax for complex numbers is uses j rather than i\n",
    "pts = [\n",
    " 0.5896  + 1.2486j,\n",
    " -0.1426 + 1.5954j,\n",
    " -0.9133 + 1.1561j,\n",
    " -0.8465 + 0.3536j,\n",
    " -1.1116 - 0.2398j, \n",
    " -1.2695 - 0.9643j,\n",
    " -0.5660 - 1.1075j,\n",
    " 0.2013 - 0.7552j,\n",
    " 0.8362 - 0.9634j,\n",
    " 1.5838 - 0.7013j,\n",
    " 1.3141 + 0.4008j,\n",
    " 0.8474 + 0.7291j\n",
    "]\n",
    "\n",
    "# This looks slightly different to the matlab - we'll use a classmethod \n",
    "# constructor rather than trying to combine all the overloads into one\n",
    "# place. This makes testing a little easier, and it makes coverage testing\n",
    "# a lot easier.\n",
    "s = Splinep.from_complex_list(pts)\n",
    "print s"
   ]
  },
  {
   "cell_type": "code",
   "execution_count": 6,
   "metadata": {
    "collapsed": false
   },
   "outputs": [
    {
     "data": {
      "image/png": "[encoded data removed]",
      "text/plain": [
       "<matplotlib.figure.Figure at 0x106f111d0>"
      ]
     },
     "metadata": {},
     "output_type": "display_data"
    }
   ],
   "source": [
    "ts = np.linspace(0.0, 1.0, 201)\n",
    "ps = s.point(ts)\n",
    "plt.plot(ps.real, ps.imag)\n",
    "plt.plot(s.zpts.real, s.zpts.imag, 'r.')\n",
    "plt.gca().set_aspect('equal')"
   ]
  },
  {
   "cell_type": "code",
   "execution_count": null,
   "metadata": {
    "collapsed": true
   },
   "outputs": [],
   "source": []
  }
 ],
 "metadata": {
  "kernelspec": {
   "display_name": "Python 2",
   "language": "python",
   "name": "python2"
  },
  "language_info": {
   "codemirror_mode": {
    "name": "ipython",
    "version": 2
   },
   "file_extension": ".py",
   "mimetype": "text/x-python",
   "name": "python",
   "nbconvert_exporter": "python",
   "pygments_lexer": "ipython2",
   "version": "2.7.9"
  }
 },
 "nbformat": 4,
 "nbformat_minor": 0
}
